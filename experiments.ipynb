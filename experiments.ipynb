{
 "cells": [
  {
   "cell_type": "code",
   "execution_count": 1,
   "metadata": {},
   "outputs": [],
   "source": [
    "import torch\n",
    "from torch import nn\n",
    "from torch.nn import functional as F\n",
    "import einops\n",
    "import matplotlib.pyplot as plt"
   ]
  },
  {
   "cell_type": "code",
   "execution_count": 2,
   "metadata": {},
   "outputs": [],
   "source": [
    "@torch.no_grad()\n",
    "def recombine_outputs(embedding: nn.Embedding, planning_output: torch.Tensor, top_k: int) -> torch.Tensor:\n",
    "    sorted = torch.sort(planning_output, dim=-1, descending=True)\n",
    "    sorted_tokens = sorted.indices[:, :top_k]\n",
    "    print(sorted_tokens.shape)\n",
    "    embeddings = embedding(sorted_tokens)\n",
    "    print(embeddings.shape)\n",
    "    embeddings = torch.sum(embeddings * sorted.values[:, :top_k].unsqueeze(-1), dim=1)\n",
    "    print(embeddings.shape)\n",
    "    return embeddings"
   ]
  },
  {
   "cell_type": "code",
   "execution_count": 3,
   "metadata": {},
   "outputs": [
    {
     "name": "stdout",
     "output_type": "stream",
     "text": [
      "torch.Size([2, 3])\n",
      "torch.Size([2, 3, 10])\n",
      "torch.Size([2, 10])\n"
     ]
    },
    {
     "data": {
      "text/plain": [
       "torch.Size([2, 10])"
      ]
     },
     "execution_count": 3,
     "metadata": {},
     "output_type": "execute_result"
    }
   ],
   "source": [
    "recombine_outputs(nn.Embedding(10, 10), torch.randn(2, 10), 3).shape"
   ]
  },
  {
   "cell_type": "code",
   "execution_count": 4,
   "metadata": {},
   "outputs": [],
   "source": [
    "@torch.no_grad()\n",
    "def recombine_outputs(embedding: nn.Embedding, planning_output: torch.Tensor, top_k: int) -> torch.Tensor:\n",
    "    planning_output.grad = None\n",
    "    sorted = torch.sort(planning_output.detach(), dim=-1, descending=True)\n",
    "    del planning_output\n",
    "    embeddings = 0\n",
    "    for i in range(top_k):\n",
    "        new_embs = embedding(sorted.indices[:, i]) * sorted.values[:, i].unsqueeze(-1)\n",
    "        embeddings = embeddings + new_embs\n",
    "    return embeddings"
   ]
  },
  {
   "cell_type": "code",
   "execution_count": 10,
   "metadata": {},
   "outputs": [
    {
     "data": {
      "text/plain": [
       "torch.Size([5, 10])"
      ]
     },
     "execution_count": 10,
     "metadata": {},
     "output_type": "execute_result"
    }
   ],
   "source": [
    "recombine_outputs(nn.Embedding(10, 10), torch.randn(5, 10), 3).shape"
   ]
  },
  {
   "cell_type": "code",
   "execution_count": 15,
   "metadata": {},
   "outputs": [],
   "source": [
    "@torch.no_grad()\n",
    "def recombine_outputs_final(embedding: nn.Embedding, planning_output: torch.Tensor, top_k: int) -> torch.Tensor:\n",
    "    planning_output.grad = None\n",
    "    values, indices = torch.topk(planning_output, k=top_k, dim=-1)\n",
    "    normalized_values = values / values.sum(dim=-1, keepdim=True)\n",
    "    embedded = embedding(indices)  # shape: (batch_size, top_k, embedding_dim)\n",
    "    weighted = embedded * normalized_values.unsqueeze(-1)  # shape: (batch_size, top_k, embedding_dim)\n",
    "    result = weighted.sum(dim=1)  # shape: (batch_size, embedding_dim)\n",
    "    return result"
   ]
  },
  {
   "cell_type": "code",
   "execution_count": 18,
   "metadata": {},
   "outputs": [
    {
     "data": {
      "text/plain": [
       "torch.Size([5, 10])"
      ]
     },
     "execution_count": 18,
     "metadata": {},
     "output_type": "execute_result"
    }
   ],
   "source": [
    "recombine_outputs_final(nn.Embedding(10, 10), torch.randn(5, 10), 3).shape"
   ]
  },
  {
   "cell_type": "code",
   "execution_count": 17,
   "metadata": {},
   "outputs": [],
   "source": [
    "emb = nn.Embedding(10, 10)\n",
    "x = torch.randn(5, 10)\n",
    "assert (recombine_outputs(emb, x, 3) - recombine_outputs_final(emb, x, 3)).abs().max() < 1e-6"
   ]
  },
  {
   "cell_type": "markdown",
   "metadata": {},
   "source": [
    "## Causal mask"
   ]
  },
  {
   "cell_type": "code",
   "execution_count": 30,
   "metadata": {},
   "outputs": [],
   "source": [
    "max_seq_len = 100\n",
    "causal_mask = torch.tril(torch.ones(max_seq_len, max_seq_len, dtype=torch.bool))\n",
    "bias_range = torch.arange(-max_seq_len+1, 1)\n",
    "position_bias_base = bias_range.unsqueeze(0) - bias_range.unsqueeze(1)\n",
    "negative_infinity_matrix_base = torch.empty_like(position_bias_base, dtype=torch.bfloat16).fill_(-float(\"inf\"))\n",
    "\n",
    "\n",
    "class LatentAttentionBlock(nn.Module):\n",
    "    def __init__(self):\n",
    "        super().__init__()\n",
    "        self.position_bias_mult = nn.Parameter(torch.tensor(1.))\n",
    "\n",
    "    def make_mask(self, x, first_planning_token_idx: int | None = None):\n",
    "        seq_len = x.shape[1]\n",
    "        attn_mask = torch.where(\n",
    "            causal_mask[:seq_len, :seq_len], \n",
    "            F.softplus(self.position_bias_mult) * position_bias_base[:seq_len, :seq_len], \n",
    "            negative_infinity_matrix_base[:seq_len, :seq_len]\n",
    "        )\n",
    "\n",
    "        if first_planning_token_idx is not None:\n",
    "            first_planning_token_idx = None if first_planning_token_idx >= seq_len else first_planning_token_idx\n",
    "\n",
    "            attn_mask[first_planning_token_idx:, first_planning_token_idx:] = (\n",
    "                F.softplus(self.position_bias_mult) \n",
    "                * position_bias_base[first_planning_token_idx:seq_len, first_planning_token_idx:seq_len]\n",
    "            )\n",
    "\n",
    "        return attn_mask"
   ]
  },
  {
   "cell_type": "code",
   "execution_count": 32,
   "metadata": {},
   "outputs": [
    {
     "name": "stdout",
     "output_type": "stream",
     "text": [
      "tensor([[ 0.0000,    -inf,    -inf,    -inf,    -inf,    -inf,    -inf,    -inf],\n",
      "        [-1.3133,  0.0000,    -inf,    -inf,    -inf,    -inf,    -inf,    -inf],\n",
      "        [-2.6265, -1.3133,  0.0000,    -inf,    -inf,    -inf,    -inf,    -inf],\n",
      "        [-3.9398, -2.6265, -1.3133,  0.0000,    -inf,    -inf,    -inf,    -inf],\n",
      "        [-5.2530, -3.9398, -2.6265, -1.3133,  0.0000,    -inf,    -inf,    -inf],\n",
      "        [-6.5663, -5.2530, -3.9398, -2.6265, -1.3133,  0.0000,    -inf,    -inf],\n",
      "        [-7.8796, -6.5663, -5.2530, -3.9398, -2.6265, -1.3133,  0.0000,    -inf],\n",
      "        [-9.1928, -7.8796, -6.5663, -5.2530, -3.9398, -2.6265, -1.3133,  0.0000]],\n",
      "       grad_fn=<WhereBackward0>)\n",
      "tensor([[ 0.0000,    -inf,    -inf,    -inf,    -inf,    -inf,    -inf,    -inf],\n",
      "        [-1.3133,  0.0000,    -inf,    -inf,    -inf,    -inf,    -inf,    -inf],\n",
      "        [-2.6265, -1.3133,  0.0000,    -inf,    -inf,    -inf,    -inf,    -inf],\n",
      "        [-3.9398, -2.6265, -1.3133,  0.0000,  1.3133,  2.6265,  3.9398,  5.2530],\n",
      "        [-5.2530, -3.9398, -2.6265, -1.3133,  0.0000,  1.3133,  2.6265,  3.9398],\n",
      "        [-6.5663, -5.2530, -3.9398, -2.6265, -1.3133,  0.0000,  1.3133,  2.6265],\n",
      "        [-7.8796, -6.5663, -5.2530, -3.9398, -2.6265, -1.3133,  0.0000,  1.3133],\n",
      "        [-9.1928, -7.8796, -6.5663, -5.2530, -3.9398, -2.6265, -1.3133,  0.0000]],\n",
      "       grad_fn=<CopySlices>)\n"
     ]
    }
   ],
   "source": [
    "def test_make_mask():\n",
    "    attn = LatentAttentionBlock()\n",
    "    x = torch.randn(8, 8)\n",
    "    print(attn.make_mask(x))\n",
    "    print(attn.make_mask(x, 3))\n",
    "\n",
    "\n",
    "test_make_mask()"
   ]
  },
  {
   "cell_type": "markdown",
   "metadata": {},
   "source": [
    "## Randomize masking rate"
   ]
  },
  {
   "cell_type": "code",
   "execution_count": 18,
   "metadata": {},
   "outputs": [],
   "source": [
    "def randomize_masking_rate(mean: float, concentration: int = 5) -> float:\n",
    "    alpha = mean * concentration\n",
    "    beta = (1 - mean) * concentration\n",
    "    return torch.distributions.Beta(alpha, beta).sample()"
   ]
  },
  {
   "cell_type": "code",
   "execution_count": 22,
   "metadata": {},
   "outputs": [],
   "source": [
    "def make_distr(mean: float, concentration: int, n: int) -> torch.Tensor:\n",
    "    return torch.tensor([randomize_masking_rate(mean, concentration).item() for _ in range(n)])\n",
    "\n",
    "\n",
    "def plot_distr(distr: torch.Tensor):\n",
    "    plt.hist(distr.numpy(), bins=100)\n",
    "    plt.show()"
   ]
  },
  {
   "cell_type": "code",
   "execution_count": 29,
   "metadata": {},
   "outputs": [
    {
     "data": {
      "image/png": "[encoded data removed]",
      "text/plain": [
       "<Figure size 640x480 with 1 Axes>"
      ]
     },
     "metadata": {},
     "output_type": "display_data"
    }
   ],
   "source": [
    "mean = 0.8\n",
    "concentration = 8\n",
    "plot_distr(make_distr(mean, concentration, 10_000))"
   ]
  }
 ],
 "metadata": {
  "kernelspec": {
   "display_name": "attn",
   "language": "python",
   "name": "python3"
  },
  "language_info": {
   "codemirror_mode": {
    "name": "ipython",
    "version": 3
   },
   "file_extension": ".py",
   "mimetype": "text/x-python",
   "name": "python",
   "nbconvert_exporter": "python",
   "pygments_lexer": "ipython3",
   "version": "3.11.7"
  }
 },
 "nbformat": 4,
 "nbformat_minor": 2
}
